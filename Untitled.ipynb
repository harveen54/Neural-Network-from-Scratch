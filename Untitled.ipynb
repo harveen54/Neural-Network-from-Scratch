{
 "cells": [
  {
   "cell_type": "code",
   "execution_count": 1,
   "metadata": {},
   "outputs": [],
   "source": [
    "import numpy as np"
   ]
  },
  {
   "cell_type": "code",
   "execution_count": 17,
   "metadata": {},
   "outputs": [
    {
     "name": "stdout",
     "output_type": "stream",
     "text": [
      "[[0. 0. 0. 0. 0. 0. 0. 0. 0. 0. 0. 0.]\n",
      " [0. 0. 0. 0. 0. 0. 0. 0. 0. 0. 0. 0.]\n",
      " [0. 0. 0. 0. 0. 0. 0. 0. 0. 0. 0. 0.]\n",
      " [0. 0. 0. 0. 0. 0. 0. 0. 0. 0. 0. 0.]\n",
      " [0. 0. 0. 0. 0. 0. 0. 0. 0. 0. 0. 0.]\n",
      " [0. 0. 0. 0. 0. 0. 0. 0. 0. 0. 0. 0.]\n",
      " [0. 0. 0. 0. 0. 0. 0. 0. 0. 0. 0. 0.]\n",
      " [0. 0. 0. 0. 0. 0. 0. 0. 0. 0. 0. 0.]]\n",
      "[[1 1 1 0 0 0]\n",
      " [1 1 0 1 0 0]\n",
      " [0 0 0 1 0 0]\n",
      " [0 0 0 1 1 1]\n",
      " [1 0 1 0 0 1]\n",
      " [1 1 1 0 0 0]\n",
      " [1 1 1 0 0 0]\n",
      " [1 1 1 1 0 0]]\n",
      "(12, 8) (8, 6)\n"
     ]
    }
   ],
   "source": [
    "X1 = np.array([1,1,0,0,1,1,1,1])\n",
    "X2 = np.array([1,1,0,0,0,1,1,1])\n",
    "X3 = np.array([1,0,0,0,1,1,1,1])\n",
    "X4 = np.array([0,1,1,1,0,0,0,1])\n",
    "X5 = np.array([0,0,0,1,0,0,0,0])\n",
    "X6 = np.array([0,0,0,1,1,0,0,0])\n",
    "\n",
    "X1 = X1.reshape(8,1)\n",
    "X2 = X2.reshape(8,1)\n",
    "X3 = X3.reshape(8,1)\n",
    "X4 = X4.reshape(8,1)\n",
    "X5 = X5.reshape(8,1)\n",
    "X6 = X6.reshape(8,1)\n",
    "\n",
    "X = np.concatenate([X1,X2,X3,X4,X5,X6], axis=1)\n",
    "Y = [1,1,1,0,0,0]\n",
    "Weights =  np.zeros((8,12))\n",
    "\n",
    "print(Weights)\n",
    "print(X)\n",
    "print(Weights.T.shape , X.shape)"
   ]
  }
 ],
 "metadata": {
  "kernelspec": {
   "display_name": "Python 3",
   "language": "python",
   "name": "python3"
  },
  "language_info": {
   "codemirror_mode": {
    "name": "ipython",
    "version": 3
   },
   "file_extension": ".py",
   "mimetype": "text/x-python",
   "name": "python",
   "nbconvert_exporter": "python",
   "pygments_lexer": "ipython3",
   "version": "3.6.5"
  }
 },
 "nbformat": 4,
 "nbformat_minor": 2
}
